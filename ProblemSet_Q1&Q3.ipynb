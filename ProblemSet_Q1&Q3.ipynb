{
 "cells": [
  {
   "cell_type": "code",
   "execution_count": 368,
   "id": "82db2729",
   "metadata": {},
   "outputs": [],
   "source": [
    "import math\n",
    "import numpy as np\n",
    "import pandas as pd\n",
    "from scipy.stats import norm"
   ]
  },
  {
   "cell_type": "markdown",
   "id": "472217b1",
   "metadata": {},
   "source": [
    "# Question1"
   ]
  },
  {
   "cell_type": "code",
   "execution_count": 369,
   "id": "81a1faad",
   "metadata": {},
   "outputs": [],
   "source": [
    "N = 60\n",
    "T = 5\n",
    "dt = T / N\n",
    "r00 = 0.053\n",
    "pi = 0.5"
   ]
  },
  {
   "cell_type": "markdown",
   "id": "a18e015b",
   "metadata": {},
   "source": [
    "## (a)"
   ]
  },
  {
   "cell_type": "code",
   "execution_count": 370,
   "id": "944181df",
   "metadata": {},
   "outputs": [
    {
     "data": {
      "text/plain": [
       "array([[5.30000000e-02, 0.00000000e+00, 0.00000000e+00, ...,\n",
       "        0.00000000e+00, 0.00000000e+00, 0.00000000e+00],\n",
       "       [4.93098141e-02, 5.69663474e-02, 0.00000000e+00, ...,\n",
       "        0.00000000e+00, 0.00000000e+00, 0.00000000e+00],\n",
       "       [4.58765616e-02, 5.30000000e-02, 6.12295233e-02, ...,\n",
       "        0.00000000e+00, 0.00000000e+00, 0.00000000e+00],\n",
       "       ...,\n",
       "       [8.06140255e-04, 9.31312897e-04, 1.07592160e-03, ...,\n",
       "        3.48450531e+00, 0.00000000e+00, 0.00000000e+00],\n",
       "       [7.50011813e-04, 8.66469166e-04, 1.00100932e-03, ...,\n",
       "        3.24189262e+00, 3.74527434e+00, 0.00000000e+00],\n",
       "       [6.97791379e-04, 8.06140255e-04, 9.31312897e-04, ...,\n",
       "        3.01617212e+00, 3.48450531e+00, 4.02555848e+00]])"
      ]
     },
     "execution_count": 370,
     "metadata": {},
     "output_type": "execute_result"
    }
   ],
   "source": [
    "# Short rate tree\n",
    "short_rate_tree = np.zeros((N+1,N+1))\n",
    "for i in range(N+1):  # time steps count\n",
    "    for j in range(i+1):  # up states count\n",
    "        short_rate_tree[i,j] =  r00*np.exp(0.25*(2*j-i)*np.sqrt(dt))\n",
    "short_rate_tree"
   ]
  },
  {
   "cell_type": "code",
   "execution_count": 371,
   "id": "b7415548",
   "metadata": {},
   "outputs": [
    {
     "data": {
      "text/plain": [
       "array([[1.00000000e+00, 0.00000000e+00, 0.00000000e+00, ...,\n",
       "        0.00000000e+00, 0.00000000e+00, 0.00000000e+00],\n",
       "       [4.97801377e-01, 4.97801377e-01, 0.00000000e+00, ...,\n",
       "        0.00000000e+00, 0.00000000e+00, 0.00000000e+00],\n",
       "       [2.47882104e-01, 4.95606795e-01, 2.47724691e-01, ...,\n",
       "        0.00000000e+00, 0.00000000e+00, 0.00000000e+00],\n",
       "       ...,\n",
       "       [3.25958024e-18, 1.88662952e-16, 5.36503887e-15, ...,\n",
       "        9.68198380e-20, 0.00000000e+00, 0.00000000e+00],\n",
       "       [1.62968064e-18, 9.59538361e-17, 2.77660310e-15, ...,\n",
       "        3.22570857e-18, 3.75161502e-20, 0.00000000e+00],\n",
       "       [8.14789396e-19, 4.87882435e-17, 1.43615920e-15, ...,\n",
       "        5.44509580e-17, 1.28410246e-18, 1.42961562e-20]])"
      ]
     },
     "execution_count": 371,
     "metadata": {},
     "output_type": "execute_result"
    }
   ],
   "source": [
    "# Arrow-Debreu states tree\n",
    "AD_tree = np.zeros((N+1,N+1))\n",
    "AD_tree[0, 0] = 1\n",
    "for i in range(1, N+1):\n",
    "    for j in range(i+1):\n",
    "        if j == 0:\n",
    "            AD_tree[i, 0] = (1 - pi) * AD_tree[i - 1, 0] / (1 + short_rate_tree[i - 1, 0] * dt)\n",
    "        elif i == j:\n",
    "            AD_tree[i, j] = pi * AD_tree[i - 1, j - 1] / (1 + short_rate_tree[i - 1, j - 1] * dt)\n",
    "        elif i > j:\n",
    "            AD_tree[i, j] = (1 - pi) * AD_tree[i - 1, j]  / (1 + short_rate_tree[i - 1, j] * dt) +\\\n",
    "            pi * AD_tree[i - 1, j - 1] / (1 + short_rate_tree[i - 1, j - 1] * dt)\n",
    "AD_tree"
   ]
  },
  {
   "cell_type": "markdown",
   "id": "526450c0",
   "metadata": {},
   "source": [
    "## (b)"
   ]
  },
  {
   "cell_type": "code",
   "execution_count": 372,
   "id": "dbf69a1b",
   "metadata": {},
   "outputs": [
    {
     "name": "stdout",
     "output_type": "stream",
     "text": [
      "The value of 1 year caplets 0.00168256\n"
     ]
    }
   ],
   "source": [
    "# 1 year caplets\n",
    "reset_date = 9\n",
    "payoff_date = 12\n",
    "bond_tree = np.zeros((4,payoff_date+1))\n",
    "bond_tree[3,:] = 1\n",
    "\n",
    "for i in range(2,-1,-1):\n",
    "    for j in range(payoff_date+i-2):\n",
    "        bond_tree[i,j] = bond_tree[i+1,j]/(1+short_rate_tree[payoff_date+i-3,j]*dt)*(1-pi)+ bond_tree[i+1,j+1]/(1+short_rate_tree[payoff_date+i-3,j]*dt)*pi\n",
    "payoff = ((1/bond_tree[0,:reset_date+1]-1)/0.25-0.05)*0.25\n",
    "payoff[payoff<0] = 0\n",
    "payoff_pv = payoff*bond_tree[0,:reset_date+1]\n",
    "\n",
    "payoff_tree = np.zeros((reset_date+1,reset_date+1))\n",
    "payoff_tree[reset_date,:] = payoff_pv\n",
    "for i in range(reset_date-1,-1,-1):\n",
    "    for j in range(i+1):\n",
    "        payoff_tree[i,j] = payoff_tree[i+1,j]/(1+short_rate_tree[i,j]*dt)*(1-pi)+ payoff_tree[i+1,j+1]/(1+short_rate_tree[i,j]*dt)*pi\n",
    "price1 = payoff_tree[0,0]\n",
    "print(\"The value of 1 year caplets\",round(payoff_tree[0,0], 8))"
   ]
  },
  {
   "cell_type": "code",
   "execution_count": 373,
   "id": "91c04e4e",
   "metadata": {},
   "outputs": [
    {
     "name": "stdout",
     "output_type": "stream",
     "text": [
      "The value of 3 year caplets 0.00273085\n"
     ]
    }
   ],
   "source": [
    "# 3 year caplets\n",
    "reset_date = 33\n",
    "payoff_date = 36\n",
    "bond_tree = np.zeros((4,payoff_date+1))\n",
    "bond_tree[3,:] = 1\n",
    "\n",
    "for i in range(2,-1,-1):\n",
    "    for j in range(payoff_date+i-2):\n",
    "        bond_tree[i,j] = bond_tree[i+1,j]/(1+short_rate_tree[payoff_date+i-3,j]*dt)*(1-pi)+ bond_tree[i+1,j+1]/(1+short_rate_tree[payoff_date+i-3,j]*dt)*pi\n",
    "payoff = ((1/bond_tree[0,:reset_date+1]-1)/0.25-0.05)*0.25\n",
    "payoff[payoff<0] = 0\n",
    "payoff_pv = payoff*bond_tree[0,:reset_date+1]\n",
    "\n",
    "payoff_tree = np.zeros((reset_date+1,reset_date+1))\n",
    "payoff_tree[reset_date,:] = payoff_pv\n",
    "for i in range(reset_date-1,-1,-1):\n",
    "    for j in range(i+1):\n",
    "        payoff_tree[i,j] = payoff_tree[i+1,j]/(1+short_rate_tree[i,j]*dt)*(1-pi)+ payoff_tree[i+1,j+1]/(1+short_rate_tree[i,j]*dt)*pi\n",
    "price3 = payoff_tree[0,0]\n",
    "print(\"The value of 3 year caplets\",round(payoff_tree[0,0], 8))"
   ]
  },
  {
   "cell_type": "code",
   "execution_count": 374,
   "id": "fb58e8ba",
   "metadata": {},
   "outputs": [
    {
     "name": "stdout",
     "output_type": "stream",
     "text": [
      "The value of 5 year caplets 0.00315075\n"
     ]
    }
   ],
   "source": [
    "# 5 year caplets\n",
    "reset_date =57\n",
    "payoff_date = 60\n",
    "bond_tree = np.zeros((4,payoff_date+1))\n",
    "bond_tree[3,:] = 1\n",
    "\n",
    "for i in range(2,-1,-1):\n",
    "    for j in range(payoff_date+i-2):\n",
    "        bond_tree[i,j] = bond_tree[i+1,j]/(1+short_rate_tree[payoff_date+i-3,j]*dt)*(1-pi)+ bond_tree[i+1,j+1]/(1+short_rate_tree[payoff_date+i-3,j]*dt)*pi\n",
    "payoff = ((1/bond_tree[0,:reset_date+1]-1)/0.25-0.05)*0.25\n",
    "payoff[payoff<0] = 0\n",
    "payoff_pv = payoff*bond_tree[0,:reset_date+1]\n",
    "\n",
    "payoff_tree = np.zeros((reset_date+1,reset_date+1))\n",
    "payoff_tree[reset_date,:] = payoff_pv\n",
    "for i in range(reset_date-1,-1,-1):\n",
    "    for j in range(i+1):\n",
    "        payoff_tree[i,j] = payoff_tree[i+1,j]/(1+short_rate_tree[i,j]*dt)*(1-pi)+ payoff_tree[i+1,j+1]/(1+short_rate_tree[i,j]*dt)*pi\n",
    "price5 = payoff_tree[0,0]\n",
    "print(\"The value of 5 year caplets\",round(payoff_tree[0,0], 8))"
   ]
  },
  {
   "cell_type": "markdown",
   "id": "0be2db33",
   "metadata": {},
   "source": [
    "## (c)"
   ]
  },
  {
   "cell_type": "code",
   "execution_count": 375,
   "id": "1351c732",
   "metadata": {},
   "outputs": [],
   "source": [
    "P1 = sum(AD_tree[12,:])\n",
    "P3 = sum(AD_tree[36,:])\n",
    "P5 = sum(AD_tree[60,:])\n",
    "fr1 = (sum(AD_tree[9,:])/P1-1)/0.25\n",
    "fr3 = (sum(AD_tree[33,:])/P3-1)/0.25\n",
    "fr5 = (sum(AD_tree[57,:])/P5-1)/0.25\n",
    "T1 = 0.75\n",
    "T3 = 2.75\n",
    "T5 = 4.75\n",
    "K = 0.05\n",
    "tau = 0.25\n",
    "sigma = np.linspace(0.000001,1,1000000)"
   ]
  },
  {
   "cell_type": "code",
   "execution_count": 376,
   "id": "19d0ab40",
   "metadata": {},
   "outputs": [
    {
     "name": "stdout",
     "output_type": "stream",
     "text": [
      "The implied Black volatilities of the forward rates F(0; 0.75, 1) =  0.246716\n"
     ]
    }
   ],
   "source": [
    "# 1 year caplets\n",
    "d1 = (np.log(fr1/K)+0.5*sigma**2*T1)/sigma/np.sqrt(T1)\n",
    "d2 = (np.log(fr1/K)-0.5*sigma**2*T1)/sigma/np.sqrt(T1)\n",
    "Black_price1 = tau*P1*(fr1*norm.cdf(d1)-K*norm.cdf(d2))\n",
    "abs_dif1 = np.abs(Black_price1 - price1)\n",
    "sigma1 = sigma[abs_dif1 == np.min(abs_dif1)][0]\n",
    "print(\"The implied Black volatilities of the forward rates F(0; 0.75, 1) = \", round(sigma1, 6))"
   ]
  },
  {
   "cell_type": "code",
   "execution_count": 377,
   "id": "12a687de",
   "metadata": {},
   "outputs": [
    {
     "name": "stdout",
     "output_type": "stream",
     "text": [
      "The implied Black volatilities of the forward rates F(0; 2.75, 3) =  0.248671\n"
     ]
    }
   ],
   "source": [
    "# 3 year caplets\n",
    "d1 = (np.log(fr3/K)+0.5*sigma**2*T3)/sigma/np.sqrt(T3)\n",
    "d2 = (np.log(fr3/K)-0.5*sigma**2*T3)/sigma/np.sqrt(T3)\n",
    "Black_price3 = tau*P3*(fr3*norm.cdf(d1)-K*norm.cdf(d2))\n",
    "abs_dif3 = np.abs(Black_price3 - price3)\n",
    "sigma3 = sigma[abs_dif3 == np.min(abs_dif3)][0]\n",
    "print(\"The implied Black volatilities of the forward rates F(0; 2.75, 3) = \", round(sigma3, 6))"
   ]
  },
  {
   "cell_type": "code",
   "execution_count": 378,
   "id": "eeb68f4b",
   "metadata": {},
   "outputs": [
    {
     "name": "stdout",
     "output_type": "stream",
     "text": [
      "The implied Black volatilities of the forward rates F(0; 4.75, 5) =  0.246796\n"
     ]
    }
   ],
   "source": [
    "# 5 year caplets\n",
    "d1 = (np.log(fr5/K)+0.5*sigma**2*T5)/sigma/np.sqrt(T5)\n",
    "d2 = (np.log(fr5/K)-0.5*sigma**2*T5)/sigma/np.sqrt(T5)\n",
    "Black_price5 = tau*P5*(fr5*norm.cdf(d1)-K*norm.cdf(d2))\n",
    "abs_dif5 = np.abs(Black_price5 - price5)\n",
    "sigma5 = sigma[abs_dif5 == np.min(abs_dif5)][0]\n",
    "print(\"The implied Black volatilities of the forward rates F(0; 4.75, 5) = \", round(sigma5, 6))"
   ]
  },
  {
   "cell_type": "markdown",
   "id": "a3cc859c",
   "metadata": {},
   "source": [
    "## (d)"
   ]
  },
  {
   "cell_type": "code",
   "execution_count": 379,
   "id": "6f81bbc3",
   "metadata": {},
   "outputs": [
    {
     "name": "stdout",
     "output_type": "stream",
     "text": [
      "The swaption value is  0.01848437\n"
     ]
    }
   ],
   "source": [
    "K = 0.055\n",
    "maturity_date = 36\n",
    "swap_date = [24, 18, 12, 6]\n",
    "short_rate_chunk = short_rate_tree[maturity_date:,:]\n",
    "cashflow_value = np.zeros_like(short_rate_chunk)\n",
    "for sd in swap_date:\n",
    "    n = sum(short_rate_chunk[sd,:]>0)\n",
    "    bond_tree = np.zeros((7,n))\n",
    "    bond_tree[6,:] = 1\n",
    "    for i in range(5, -1, -1):\n",
    "        for j in range(n+i-6):\n",
    "            bond_tree[i,j] = bond_tree[i+1,j]/(1+short_rate_chunk[sd+i-6,j]*dt)*(1-pi)+ bond_tree[i+1,j+1]/(1+short_rate_chunk[sd+i-6,j]*dt)*pi\n",
    "    cashflow_value[sd-6,:sd+maturity_date-5] = ((1/bond_tree[0,:sd+maturity_date-5]-1)/0.5-K)*bond_tree[0,:sd+maturity_date-5]*0.5\n",
    "for i in range(23,-1,-1):\n",
    "    for j in range(maturity_date+i+1):\n",
    "        cashflow_value[i,j] += cashflow_value[i+1,j]/(1+short_rate_chunk[i,j]*dt)*(1-pi) + cashflow_value[i+1,j+1]/(1+short_rate_chunk[i,j]*dt)*pi\n",
    "swaption_value = np.zeros((maturity_date+1,maturity_date+1))\n",
    "swaption_value[maturity_date,:] = cashflow_value[0,:maturity_date+1]\n",
    "swaption_value[swaption_value<0] = 0\n",
    "for i in range(maturity_date-1,-1,-1):\n",
    "    for j in range(i+1):\n",
    "        swaption_value[i,j] = swaption_value[i+1,j]/(1+short_rate_tree[i,j]*dt)*(1-pi)+swaption_value[i+1,j+1]/(1+short_rate_tree[i,j]*dt)*pi\n",
    "swaption_price = swaption_value[0,0]\n",
    "print(\"The swaption value is \",round(swaption_value[0,0],8))"
   ]
  },
  {
   "cell_type": "markdown",
   "id": "9b6fd1f4",
   "metadata": {},
   "source": [
    "## (e)"
   ]
  },
  {
   "cell_type": "code",
   "execution_count": 380,
   "id": "6aae91c6",
   "metadata": {},
   "outputs": [],
   "source": [
    "K = 0.055\n",
    "T = 3\n",
    "swap_dt = 0.5\n",
    "maturity_date = 36\n",
    "Fixed0 = swap_dt*np.sum(AD_tree[[maturity_date+6*i for i in range(1,5)],:])\n",
    "S_T_Tn = (sum(AD_tree[maturity_date,:])-sum(AD_tree[60,:]))/Fixed0\n",
    "sigma = np.linspace(0.000001,1,1000000)"
   ]
  },
  {
   "cell_type": "code",
   "execution_count": 381,
   "id": "529c302c",
   "metadata": {},
   "outputs": [
    {
     "name": "stdout",
     "output_type": "stream",
     "text": [
      "The Black implied volatility of the swap rate from part d) =  0.247913\n"
     ]
    }
   ],
   "source": [
    "d1 = (np.log(S_T_Tn/K)+0.5*sigma**2*T)/sigma/np.sqrt(T)\n",
    "d2 = (np.log(S_T_Tn/K)-0.5*sigma**2*T)/sigma/np.sqrt(T)\n",
    "Black_price_swqption = Fixed0*(S_T_Tn*norm.cdf(d1)-K*norm.cdf(d2))\n",
    "abs_dif = np.abs(Black_price_swqption - swaption_price)\n",
    "sigma_swap = sigma[abs_dif == np.min(abs_dif)][0]\n",
    "print(\"The Black implied volatility of the swap rate from part d) = \", round(sigma_swap, 6))"
   ]
  },
  {
   "cell_type": "markdown",
   "id": "e7708dd0",
   "metadata": {},
   "source": [
    "## (f)"
   ]
  },
  {
   "cell_type": "code",
   "execution_count": 382,
   "id": "955920d5",
   "metadata": {},
   "outputs": [
    {
     "name": "stdout",
     "output_type": "stream",
     "text": [
      "The Bermudan swaption value is  0.03037217\n"
     ]
    }
   ],
   "source": [
    "K = 0.055\n",
    "maturity_date = 6\n",
    "value_at_maturity = np.zeros((maturity_date+1,))\n",
    "swap_date = [54, 48, 42, 36,30,24,18,12,6]\n",
    "short_rate_chunk = short_rate_tree[maturity_date:,:]\n",
    "cashflow_value = np.zeros_like(short_rate_chunk)\n",
    "for sd in swap_date:\n",
    "    n = sum(short_rate_chunk[sd,:]>0)\n",
    "    bond_tree = np.zeros((7,n))\n",
    "    bond_tree[6,:] = 1\n",
    "    for i in range(5, -1, -1):\n",
    "        for j in range(n+i-6):\n",
    "            bond_tree[i,j] = bond_tree[i+1,j]/(1+short_rate_chunk[sd+i-6,j]*dt)*(1-pi)+ bond_tree[i+1,j+1]/(1+short_rate_chunk[sd+i-6,j]*dt)*pi\n",
    "    cashflow_value[sd-6,:sd+maturity_date-5] = ((1/bond_tree[0,:sd+maturity_date-5]-1)/0.5-K)*bond_tree[0,:sd+maturity_date-5]*0.5\n",
    "for i in range(53,-1,-1):\n",
    "    for j in range(maturity_date+i+1):\n",
    "        cashflow_value[i,j] += cashflow_value[i+1,j]/(1+short_rate_chunk[i,j]*dt)*(1-pi) + cashflow_value[i+1,j+1]/(1+short_rate_chunk[i,j]*dt)*pi\n",
    "exercise_date = [24,18,12,6,0]\n",
    "not_exercise_value = cashflow_value[32,:37]\n",
    "not_exercise_value[not_exercise_value<0]=0\n",
    "for ed in exercise_date:\n",
    "    exercise_value = cashflow_value[ed,:ed+maturity_date+1]\n",
    "    for i in range(ed+5,ed-1,-1):\n",
    "        short_rate = short_rate_tree[maturity_date+i,:maturity_date+i+1]\n",
    "        not_exercise_value = not_exercise_value[:maturity_date+i+1]/(1+short_rate*dt)*(1-pi)+not_exercise_value[1:]/(1+short_rate*dt)*pi\n",
    "    not_exercise_value = np.maximum(not_exercise_value,exercise_value)         \n",
    "swaption_value = np.zeros((maturity_date+1,maturity_date+1))\n",
    "swaption_value[maturity_date,:] = not_exercise_value\n",
    "swaption_value[swaption_value<0] = 0\n",
    "for i in range(maturity_date-1,-1,-1):\n",
    "    for j in range(i+1):\n",
    "        swaption_value[i,j] = swaption_value[i+1,j]/(1+short_rate_tree[i,j]*dt)*(1-pi)+swaption_value[i+1,j+1]/(1+short_rate_tree[i,j]*dt)*pi\n",
    "Bermudan_swaption_price = swaption_value[0,0]\n",
    "print(\"The Bermudan swaption value is \",round(swaption_value[0,0],8))"
   ]
  },
  {
   "cell_type": "markdown",
   "id": "c89762de",
   "metadata": {},
   "source": [
    "# Question3"
   ]
  },
  {
   "cell_type": "markdown",
   "id": "ab01116a",
   "metadata": {},
   "source": [
    "## (a)"
   ]
  },
  {
   "cell_type": "code",
   "execution_count": 383,
   "id": "fa1c8eb1",
   "metadata": {},
   "outputs": [
    {
     "name": "stdout",
     "output_type": "stream",
     "text": [
      "   maturity  Bond_Prices  Implied_Rates\n",
      "0         1     0.950677       0.050581\n",
      "1         5     0.814839       0.040953\n",
      "2        10     0.740160       0.030089\n",
      "3        20     0.758004       0.013853\n",
      "4        30     0.898865       0.003554\n"
     ]
    }
   ],
   "source": [
    "r0 = 0.053\n",
    "theta = 0.005\n",
    "k = 0.1\n",
    "sigma = 0.025\n",
    "t = 0\n",
    "\n",
    "def A(t, T, theta, sigma, k):\n",
    "    B_value = B(t, T, k)\n",
    "    first_term = (theta - (sigma**2 / (2 * (k**2)))) * (B_value - (T - t))\n",
    "    second_term = (sigma**2 / (4 * k)) * B_value**2\n",
    "    return math.exp(first_term - second_term)\n",
    "\n",
    "def B(t, T, k):\n",
    "    return (1 - math.exp(-k * (T - t))) / k\n",
    "\n",
    "def P(t, T, r0, theta, sigma, k):\n",
    "    return A(t, T, theta, sigma, k) * math.exp(-B(t, T, k) * r0)\n",
    "\n",
    "def implied_rate(P_value, T):\n",
    "    return -math.log(P_value) / T\n",
    "\n",
    "maturities = [1, 5, 10, 20, 30]\n",
    "bond_prices = [P(t, T, r0, theta, sigma, k) for T in maturities]\n",
    "implied_rates = [implied_rate(P_value, T) for P_value, T in zip(bond_prices, maturities)]\n",
    "\n",
    "ZCB_value = pd.DataFrame()\n",
    "ZCB_value[\"maturity\"] = maturities\n",
    "ZCB_value[\"Bond_Prices\"] = bond_prices\n",
    "ZCB_value[\"Implied_Rates\"] = implied_rates\n",
    "print(ZCB_value)"
   ]
  },
  {
   "cell_type": "markdown",
   "id": "decebf88",
   "metadata": {},
   "source": [
    "## (b)"
   ]
  },
  {
   "cell_type": "markdown",
   "id": "1af141ec",
   "metadata": {},
   "source": [
    "The bond price decreases as maturity increases up to 10 years. However, at the 20-year maturity, the bond price increases compared to the 10-year maturity, and, at the 30-year maturity, the bond price again increases significantly. It implies that the rate after 10 years is negative, which is an unusual feature and might don;t match typical market behaviors."
   ]
  },
  {
   "cell_type": "markdown",
   "id": "0e5ade7c",
   "metadata": {},
   "source": [
    "## (c)"
   ]
  },
  {
   "cell_type": "code",
   "execution_count": 384,
   "id": "3e44c93e",
   "metadata": {},
   "outputs": [
    {
     "name": "stdout",
     "output_type": "stream",
     "text": [
      "   maturity  Implied Rates for r0=0.052  Implied Rates for r0=0.054\n",
      "0         1                    0.049630                    0.051533\n",
      "1         5                    0.040166                    0.041740\n",
      "2        10                    0.029457                    0.030721\n",
      "3        20                    0.013421                    0.014286\n",
      "4        30                    0.003237                    0.003871\n"
     ]
    }
   ],
   "source": [
    "r0_values = [0.052, 0.054]\n",
    "implied_rates_scenarios = []\n",
    "\n",
    "for r in r0_values:\n",
    "    rates = [implied_rate(P(t, T, r, theta, sigma, k), T) for T in maturities]\n",
    "    implied_rates_scenarios.append(rates)\n",
    "\n",
    "Implied_Rates = pd.DataFrame()\n",
    "Implied_Rates[\"maturity\"] = maturities\n",
    "Implied_Rates[\"Implied Rates for r0=0.052\"] = implied_rates_scenarios[0]\n",
    "Implied_Rates[\"Implied Rates for r0=0.054\"] = implied_rates_scenarios[1]\n",
    "print(Implied_Rates)"
   ]
  },
  {
   "cell_type": "code",
   "execution_count": 386,
   "id": "60b62b15",
   "metadata": {},
   "outputs": [
    {
     "data": {
      "text/html": [
       "<div>\n",
       "<style scoped>\n",
       "    .dataframe tbody tr th:only-of-type {\n",
       "        vertical-align: middle;\n",
       "    }\n",
       "\n",
       "    .dataframe tbody tr th {\n",
       "        vertical-align: top;\n",
       "    }\n",
       "\n",
       "    .dataframe thead th {\n",
       "        text-align: right;\n",
       "    }\n",
       "</style>\n",
       "<table border=\"1\" class=\"dataframe\">\n",
       "  <thead>\n",
       "    <tr style=\"text-align: right;\">\n",
       "      <th></th>\n",
       "      <th>r0</th>\n",
       "      <th>down state</th>\n",
       "      <th>up state</th>\n",
       "    </tr>\n",
       "  </thead>\n",
       "  <tbody>\n",
       "    <tr>\n",
       "      <th>r0</th>\n",
       "      <td>1.000000</td>\n",
       "      <td>0.999999</td>\n",
       "      <td>1.000000</td>\n",
       "    </tr>\n",
       "    <tr>\n",
       "      <th>down state</th>\n",
       "      <td>0.999999</td>\n",
       "      <td>1.000000</td>\n",
       "      <td>0.999998</td>\n",
       "    </tr>\n",
       "    <tr>\n",
       "      <th>up state</th>\n",
       "      <td>1.000000</td>\n",
       "      <td>0.999998</td>\n",
       "      <td>1.000000</td>\n",
       "    </tr>\n",
       "  </tbody>\n",
       "</table>\n",
       "</div>"
      ],
      "text/plain": [
       "                  r0  down state  up state\n",
       "r0          1.000000    0.999999  1.000000\n",
       "down state  0.999999    1.000000  0.999998\n",
       "up state    1.000000    0.999998  1.000000"
      ]
     },
     "execution_count": 386,
     "metadata": {},
     "output_type": "execute_result"
    }
   ],
   "source": [
    "rates_matrix = np.array([implied_rates, implied_rates_scenarios[0], implied_rates_scenarios[1]])\n",
    "correlations = np.corrcoef(rates_matrix)\n",
    "cor = pd.DataFrame(correlations, columns=['r0','down state','up state'],index=['r0','down state','up state'])\n",
    "cor"
   ]
  },
  {
   "cell_type": "markdown",
   "id": "5c37d756",
   "metadata": {},
   "source": [
    "The correlations are very high, which means the yield curve moves in a nearly perfect parallel pattern when $ r_t $ changes. This pattern is not very realistic, for in real world, yield curves usually exhibit several different type of movement. "
   ]
  }
 ],
 "metadata": {
  "kernelspec": {
   "display_name": "Python 3 (ipykernel)",
   "language": "python",
   "name": "python3"
  },
  "language_info": {
   "codemirror_mode": {
    "name": "ipython",
    "version": 3
   },
   "file_extension": ".py",
   "mimetype": "text/x-python",
   "name": "python",
   "nbconvert_exporter": "python",
   "pygments_lexer": "ipython3",
   "version": "3.8.10"
  }
 },
 "nbformat": 4,
 "nbformat_minor": 5
}
